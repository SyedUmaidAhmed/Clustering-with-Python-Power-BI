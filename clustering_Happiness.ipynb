{
 "cells": [
  {
   "cell_type": "code",
   "execution_count": 7,
   "id": "31c21e08",
   "metadata": {},
   "outputs": [],
   "source": [
    "import pandas as pd\n",
    "import numpy as np\n",
    "import matplotlib.pyplot as plt\n"
   ]
  },
  {
   "cell_type": "code",
   "execution_count": 2,
   "id": "6cd07d8e",
   "metadata": {},
   "outputs": [
    {
     "data": {
      "text/html": [
       "<div>\n",
       "<style scoped>\n",
       "    .dataframe tbody tr th:only-of-type {\n",
       "        vertical-align: middle;\n",
       "    }\n",
       "\n",
       "    .dataframe tbody tr th {\n",
       "        vertical-align: top;\n",
       "    }\n",
       "\n",
       "    .dataframe thead th {\n",
       "        text-align: right;\n",
       "    }\n",
       "</style>\n",
       "<table border=\"1\" class=\"dataframe\">\n",
       "  <thead>\n",
       "    <tr style=\"text-align: right;\">\n",
       "      <th></th>\n",
       "      <th>country</th>\n",
       "      <th>adjusted_satisfaction</th>\n",
       "      <th>avg_satisfaction</th>\n",
       "      <th>std_satisfaction</th>\n",
       "      <th>avg_income</th>\n",
       "      <th>median_income</th>\n",
       "      <th>income_inequality</th>\n",
       "      <th>region</th>\n",
       "      <th>happyScore</th>\n",
       "      <th>GDP</th>\n",
       "      <th>country.1</th>\n",
       "    </tr>\n",
       "  </thead>\n",
       "  <tbody>\n",
       "    <tr>\n",
       "      <th>0</th>\n",
       "      <td>Armenia</td>\n",
       "      <td>37.0</td>\n",
       "      <td>4.9</td>\n",
       "      <td>2.42</td>\n",
       "      <td>2096.76</td>\n",
       "      <td>1731.506667</td>\n",
       "      <td>31.445556</td>\n",
       "      <td>'Central and Eastern Europe'</td>\n",
       "      <td>4.350</td>\n",
       "      <td>0.76821</td>\n",
       "      <td>Armenia</td>\n",
       "    </tr>\n",
       "    <tr>\n",
       "      <th>1</th>\n",
       "      <td>Angola</td>\n",
       "      <td>26.0</td>\n",
       "      <td>4.3</td>\n",
       "      <td>3.19</td>\n",
       "      <td>1448.88</td>\n",
       "      <td>1044.240000</td>\n",
       "      <td>42.720000</td>\n",
       "      <td>'Sub-Saharan Africa'</td>\n",
       "      <td>4.033</td>\n",
       "      <td>0.75778</td>\n",
       "      <td>Angola</td>\n",
       "    </tr>\n",
       "    <tr>\n",
       "      <th>2</th>\n",
       "      <td>Argentina</td>\n",
       "      <td>60.0</td>\n",
       "      <td>7.1</td>\n",
       "      <td>1.91</td>\n",
       "      <td>7101.12</td>\n",
       "      <td>5109.400000</td>\n",
       "      <td>45.475556</td>\n",
       "      <td>'Latin America and Caribbean'</td>\n",
       "      <td>6.574</td>\n",
       "      <td>1.05351</td>\n",
       "      <td>Argentina</td>\n",
       "    </tr>\n",
       "    <tr>\n",
       "      <th>3</th>\n",
       "      <td>Austria</td>\n",
       "      <td>59.0</td>\n",
       "      <td>7.2</td>\n",
       "      <td>2.11</td>\n",
       "      <td>19457.04</td>\n",
       "      <td>16879.620000</td>\n",
       "      <td>30.296250</td>\n",
       "      <td>'Western Europe'</td>\n",
       "      <td>7.200</td>\n",
       "      <td>1.33723</td>\n",
       "      <td>Austria</td>\n",
       "    </tr>\n",
       "    <tr>\n",
       "      <th>4</th>\n",
       "      <td>Australia</td>\n",
       "      <td>65.0</td>\n",
       "      <td>7.6</td>\n",
       "      <td>1.80</td>\n",
       "      <td>19917.00</td>\n",
       "      <td>15846.060000</td>\n",
       "      <td>35.285000</td>\n",
       "      <td>'Australia and New Zealand'</td>\n",
       "      <td>7.284</td>\n",
       "      <td>1.33358</td>\n",
       "      <td>Australia</td>\n",
       "    </tr>\n",
       "  </tbody>\n",
       "</table>\n",
       "</div>"
      ],
      "text/plain": [
       "     country  adjusted_satisfaction  avg_satisfaction  std_satisfaction  \\\n",
       "0    Armenia                   37.0               4.9              2.42   \n",
       "1     Angola                   26.0               4.3              3.19   \n",
       "2  Argentina                   60.0               7.1              1.91   \n",
       "3    Austria                   59.0               7.2              2.11   \n",
       "4  Australia                   65.0               7.6              1.80   \n",
       "\n",
       "   avg_income  median_income  income_inequality  \\\n",
       "0     2096.76    1731.506667          31.445556   \n",
       "1     1448.88    1044.240000          42.720000   \n",
       "2     7101.12    5109.400000          45.475556   \n",
       "3    19457.04   16879.620000          30.296250   \n",
       "4    19917.00   15846.060000          35.285000   \n",
       "\n",
       "                          region  happyScore      GDP  country.1  \n",
       "0   'Central and Eastern Europe'       4.350  0.76821    Armenia  \n",
       "1           'Sub-Saharan Africa'       4.033  0.75778     Angola  \n",
       "2  'Latin America and Caribbean'       6.574  1.05351  Argentina  \n",
       "3               'Western Europe'       7.200  1.33723    Austria  \n",
       "4    'Australia and New Zealand'       7.284  1.33358  Australia  "
      ]
     },
     "execution_count": 2,
     "metadata": {},
     "output_type": "execute_result"
    }
   ],
   "source": [
    "data = pd.read_csv('happiness.csv')\n",
    "data.head()"
   ]
  },
  {
   "cell_type": "code",
   "execution_count": 5,
   "id": "7d5f2a9a",
   "metadata": {},
   "outputs": [],
   "source": [
    "happy = data['happyScore']\n",
    "income = data['avg_income']\n"
   ]
  },
  {
   "cell_type": "code",
   "execution_count": 8,
   "id": "02676073",
   "metadata": {},
   "outputs": [
    {
     "data": {
      "image/png": "[encoded data removed]",
      "text/plain": [
       "<Figure size 432x288 with 1 Axes>"
      ]
     },
     "metadata": {
      "needs_background": "light"
     },
     "output_type": "display_data"
    }
   ],
   "source": [
    "plt.xlabel('income')\n",
    "plt.ylabel('Happiness')\n",
    "plt.scatter(income,happy)\n",
    "plt.show()"
   ]
  },
  {
   "cell_type": "code",
   "execution_count": 9,
   "id": "5ff9e9e6",
   "metadata": {},
   "outputs": [],
   "source": [
    "data.sort_values('avg_income',inplace=True)"
   ]
  },
  {
   "cell_type": "code",
   "execution_count": 10,
   "id": "233ecbce",
   "metadata": {},
   "outputs": [
    {
     "data": {
      "text/html": [
       "<div>\n",
       "<style scoped>\n",
       "    .dataframe tbody tr th:only-of-type {\n",
       "        vertical-align: middle;\n",
       "    }\n",
       "\n",
       "    .dataframe tbody tr th {\n",
       "        vertical-align: top;\n",
       "    }\n",
       "\n",
       "    .dataframe thead th {\n",
       "        text-align: right;\n",
       "    }\n",
       "</style>\n",
       "<table border=\"1\" class=\"dataframe\">\n",
       "  <thead>\n",
       "    <tr style=\"text-align: right;\">\n",
       "      <th></th>\n",
       "      <th>country</th>\n",
       "      <th>adjusted_satisfaction</th>\n",
       "      <th>avg_satisfaction</th>\n",
       "      <th>std_satisfaction</th>\n",
       "      <th>avg_income</th>\n",
       "      <th>median_income</th>\n",
       "      <th>income_inequality</th>\n",
       "      <th>region</th>\n",
       "      <th>happyScore</th>\n",
       "      <th>GDP</th>\n",
       "      <th>country.1</th>\n",
       "    </tr>\n",
       "  </thead>\n",
       "  <tbody>\n",
       "    <tr>\n",
       "      <th>10</th>\n",
       "      <td>Burundi</td>\n",
       "      <td>25.0</td>\n",
       "      <td>2.9</td>\n",
       "      <td>1.96</td>\n",
       "      <td>572.88</td>\n",
       "      <td>436.92</td>\n",
       "      <td>33.360000</td>\n",
       "      <td>'Sub-Saharan Africa'</td>\n",
       "      <td>2.905</td>\n",
       "      <td>0.01530</td>\n",
       "      <td>Burundi</td>\n",
       "    </tr>\n",
       "    <tr>\n",
       "      <th>65</th>\n",
       "      <td>Madagascar</td>\n",
       "      <td>33.0</td>\n",
       "      <td>3.7</td>\n",
       "      <td>1.86</td>\n",
       "      <td>574.20</td>\n",
       "      <td>415.48</td>\n",
       "      <td>40.720000</td>\n",
       "      <td>'Sub-Saharan Africa'</td>\n",
       "      <td>3.681</td>\n",
       "      <td>0.20824</td>\n",
       "      <td>Madagascar</td>\n",
       "    </tr>\n",
       "    <tr>\n",
       "      <th>58</th>\n",
       "      <td>Liberia</td>\n",
       "      <td>37.0</td>\n",
       "      <td>4.4</td>\n",
       "      <td>2.02</td>\n",
       "      <td>653.04</td>\n",
       "      <td>528.72</td>\n",
       "      <td>36.480000</td>\n",
       "      <td>'Sub-Saharan Africa'</td>\n",
       "      <td>4.571</td>\n",
       "      <td>0.07120</td>\n",
       "      <td>Liberia</td>\n",
       "    </tr>\n",
       "    <tr>\n",
       "      <th>72</th>\n",
       "      <td>Mozambique</td>\n",
       "      <td>34.0</td>\n",
       "      <td>3.8</td>\n",
       "      <td>1.76</td>\n",
       "      <td>714.72</td>\n",
       "      <td>488.52</td>\n",
       "      <td>45.580000</td>\n",
       "      <td>'Sub-Saharan Africa'</td>\n",
       "      <td>4.971</td>\n",
       "      <td>0.08308</td>\n",
       "      <td>Mozambique</td>\n",
       "    </tr>\n",
       "    <tr>\n",
       "      <th>73</th>\n",
       "      <td>Niger</td>\n",
       "      <td>34.0</td>\n",
       "      <td>3.8</td>\n",
       "      <td>1.75</td>\n",
       "      <td>718.40</td>\n",
       "      <td>535.56</td>\n",
       "      <td>37.726667</td>\n",
       "      <td>'Sub-Saharan Africa'</td>\n",
       "      <td>3.845</td>\n",
       "      <td>0.06940</td>\n",
       "      <td>Niger</td>\n",
       "    </tr>\n",
       "  </tbody>\n",
       "</table>\n",
       "</div>"
      ],
      "text/plain": [
       "       country  adjusted_satisfaction  avg_satisfaction  std_satisfaction  \\\n",
       "10     Burundi                   25.0               2.9              1.96   \n",
       "65  Madagascar                   33.0               3.7              1.86   \n",
       "58     Liberia                   37.0               4.4              2.02   \n",
       "72  Mozambique                   34.0               3.8              1.76   \n",
       "73       Niger                   34.0               3.8              1.75   \n",
       "\n",
       "    avg_income  median_income  income_inequality                region  \\\n",
       "10      572.88         436.92          33.360000  'Sub-Saharan Africa'   \n",
       "65      574.20         415.48          40.720000  'Sub-Saharan Africa'   \n",
       "58      653.04         528.72          36.480000  'Sub-Saharan Africa'   \n",
       "72      714.72         488.52          45.580000  'Sub-Saharan Africa'   \n",
       "73      718.40         535.56          37.726667  'Sub-Saharan Africa'   \n",
       "\n",
       "    happyScore      GDP   country.1  \n",
       "10       2.905  0.01530     Burundi  \n",
       "65       3.681  0.20824  Madagascar  \n",
       "58       4.571  0.07120     Liberia  \n",
       "72       4.971  0.08308  Mozambique  \n",
       "73       3.845  0.06940       Niger  "
      ]
     },
     "execution_count": 10,
     "metadata": {},
     "output_type": "execute_result"
    }
   ],
   "source": [
    "data.head()"
   ]
  },
  {
   "cell_type": "code",
   "execution_count": 11,
   "id": "33965df3",
   "metadata": {},
   "outputs": [
    {
     "data": {
      "text/html": [
       "<div>\n",
       "<style scoped>\n",
       "    .dataframe tbody tr th:only-of-type {\n",
       "        vertical-align: middle;\n",
       "    }\n",
       "\n",
       "    .dataframe tbody tr th {\n",
       "        vertical-align: top;\n",
       "    }\n",
       "\n",
       "    .dataframe thead th {\n",
       "        text-align: right;\n",
       "    }\n",
       "</style>\n",
       "<table border=\"1\" class=\"dataframe\">\n",
       "  <thead>\n",
       "    <tr style=\"text-align: right;\">\n",
       "      <th></th>\n",
       "      <th>country</th>\n",
       "      <th>adjusted_satisfaction</th>\n",
       "      <th>avg_satisfaction</th>\n",
       "      <th>std_satisfaction</th>\n",
       "      <th>avg_income</th>\n",
       "      <th>median_income</th>\n",
       "      <th>income_inequality</th>\n",
       "      <th>region</th>\n",
       "      <th>happyScore</th>\n",
       "      <th>GDP</th>\n",
       "      <th>country.1</th>\n",
       "    </tr>\n",
       "  </thead>\n",
       "  <tbody>\n",
       "    <tr>\n",
       "      <th>49</th>\n",
       "      <td>Italy</td>\n",
       "      <td>57.0</td>\n",
       "      <td>6.6</td>\n",
       "      <td>1.81</td>\n",
       "      <td>15437.595000</td>\n",
       "      <td>13163.070000</td>\n",
       "      <td>34.126250</td>\n",
       "      <td>'Western Europe'</td>\n",
       "      <td>5.948</td>\n",
       "      <td>1.25114</td>\n",
       "      <td>Italy</td>\n",
       "    </tr>\n",
       "    <tr>\n",
       "      <th>44</th>\n",
       "      <td>Ireland</td>\n",
       "      <td>64.0</td>\n",
       "      <td>7.5</td>\n",
       "      <td>1.85</td>\n",
       "      <td>16657.770000</td>\n",
       "      <td>13823.160000</td>\n",
       "      <td>32.418750</td>\n",
       "      <td>'Western Europe'</td>\n",
       "      <td>6.940</td>\n",
       "      <td>1.33596</td>\n",
       "      <td>Ireland</td>\n",
       "    </tr>\n",
       "    <tr>\n",
       "      <th>90</th>\n",
       "      <td>Sweden</td>\n",
       "      <td>67.0</td>\n",
       "      <td>7.8</td>\n",
       "      <td>1.72</td>\n",
       "      <td>17032.755000</td>\n",
       "      <td>15166.605000</td>\n",
       "      <td>26.950000</td>\n",
       "      <td>'Western Europe'</td>\n",
       "      <td>7.364</td>\n",
       "      <td>1.33171</td>\n",
       "      <td>Sweden</td>\n",
       "    </tr>\n",
       "    <tr>\n",
       "      <th>36</th>\n",
       "      <td>United Kingdom</td>\n",
       "      <td>60.0</td>\n",
       "      <td>7.1</td>\n",
       "      <td>1.98</td>\n",
       "      <td>17099.550000</td>\n",
       "      <td>14172.735000</td>\n",
       "      <td>34.432500</td>\n",
       "      <td>'Western Europe'</td>\n",
       "      <td>6.867</td>\n",
       "      <td>1.26637</td>\n",
       "      <td>United Kingdom</td>\n",
       "    </tr>\n",
       "    <tr>\n",
       "      <th>7</th>\n",
       "      <td>Belgium</td>\n",
       "      <td>63.0</td>\n",
       "      <td>7.2</td>\n",
       "      <td>1.72</td>\n",
       "      <td>17168.505000</td>\n",
       "      <td>15166.455000</td>\n",
       "      <td>28.745000</td>\n",
       "      <td>'Western Europe'</td>\n",
       "      <td>6.937</td>\n",
       "      <td>1.30782</td>\n",
       "      <td>Belgium</td>\n",
       "    </tr>\n",
       "    <tr>\n",
       "      <th>33</th>\n",
       "      <td>Finland</td>\n",
       "      <td>70.0</td>\n",
       "      <td>7.9</td>\n",
       "      <td>1.53</td>\n",
       "      <td>17310.195000</td>\n",
       "      <td>14962.560000</td>\n",
       "      <td>27.723750</td>\n",
       "      <td>'Western Europe'</td>\n",
       "      <td>7.406</td>\n",
       "      <td>1.29025</td>\n",
       "      <td>Finland</td>\n",
       "    </tr>\n",
       "    <tr>\n",
       "      <th>27</th>\n",
       "      <td>Denmark</td>\n",
       "      <td>74.0</td>\n",
       "      <td>8.4</td>\n",
       "      <td>1.53</td>\n",
       "      <td>17496.510000</td>\n",
       "      <td>15630.885000</td>\n",
       "      <td>28.155000</td>\n",
       "      <td>'Western Europe'</td>\n",
       "      <td>7.527</td>\n",
       "      <td>1.32548</td>\n",
       "      <td>Denmark</td>\n",
       "    </tr>\n",
       "    <tr>\n",
       "      <th>34</th>\n",
       "      <td>France</td>\n",
       "      <td>52.0</td>\n",
       "      <td>6.4</td>\n",
       "      <td>2.15</td>\n",
       "      <td>18096.788571</td>\n",
       "      <td>14971.251429</td>\n",
       "      <td>32.255714</td>\n",
       "      <td>'Western Europe'</td>\n",
       "      <td>6.575</td>\n",
       "      <td>1.27778</td>\n",
       "      <td>France</td>\n",
       "    </tr>\n",
       "    <tr>\n",
       "      <th>76</th>\n",
       "      <td>Netherlands</td>\n",
       "      <td>69.0</td>\n",
       "      <td>7.6</td>\n",
       "      <td>1.38</td>\n",
       "      <td>18234.435000</td>\n",
       "      <td>15880.545000</td>\n",
       "      <td>29.271250</td>\n",
       "      <td>'Western Europe'</td>\n",
       "      <td>7.378</td>\n",
       "      <td>1.32944</td>\n",
       "      <td>Netherlands</td>\n",
       "    </tr>\n",
       "    <tr>\n",
       "      <th>48</th>\n",
       "      <td>Iceland</td>\n",
       "      <td>71.0</td>\n",
       "      <td>8.1</td>\n",
       "      <td>1.64</td>\n",
       "      <td>18828.345000</td>\n",
       "      <td>16179.315000</td>\n",
       "      <td>28.780000</td>\n",
       "      <td>'Western Europe'</td>\n",
       "      <td>7.561</td>\n",
       "      <td>1.30232</td>\n",
       "      <td>Iceland</td>\n",
       "    </tr>\n",
       "    <tr>\n",
       "      <th>25</th>\n",
       "      <td>Germany</td>\n",
       "      <td>61.0</td>\n",
       "      <td>7.2</td>\n",
       "      <td>1.99</td>\n",
       "      <td>19285.960000</td>\n",
       "      <td>16291.260000</td>\n",
       "      <td>31.541667</td>\n",
       "      <td>'Western Europe'</td>\n",
       "      <td>6.750</td>\n",
       "      <td>1.32792</td>\n",
       "      <td>Germany</td>\n",
       "    </tr>\n",
       "    <tr>\n",
       "      <th>3</th>\n",
       "      <td>Austria</td>\n",
       "      <td>59.0</td>\n",
       "      <td>7.2</td>\n",
       "      <td>2.11</td>\n",
       "      <td>19457.040000</td>\n",
       "      <td>16879.620000</td>\n",
       "      <td>30.296250</td>\n",
       "      <td>'Western Europe'</td>\n",
       "      <td>7.200</td>\n",
       "      <td>1.33723</td>\n",
       "      <td>Austria</td>\n",
       "    </tr>\n",
       "    <tr>\n",
       "      <th>4</th>\n",
       "      <td>Australia</td>\n",
       "      <td>65.0</td>\n",
       "      <td>7.6</td>\n",
       "      <td>1.80</td>\n",
       "      <td>19917.000000</td>\n",
       "      <td>15846.060000</td>\n",
       "      <td>35.285000</td>\n",
       "      <td>'Australia and New Zealand'</td>\n",
       "      <td>7.284</td>\n",
       "      <td>1.33358</td>\n",
       "      <td>Australia</td>\n",
       "    </tr>\n",
       "    <tr>\n",
       "      <th>16</th>\n",
       "      <td>Canada</td>\n",
       "      <td>69.0</td>\n",
       "      <td>8.0</td>\n",
       "      <td>1.71</td>\n",
       "      <td>20190.780000</td>\n",
       "      <td>16829.100000</td>\n",
       "      <td>33.790000</td>\n",
       "      <td>'North America'</td>\n",
       "      <td>7.427</td>\n",
       "      <td>1.32629</td>\n",
       "      <td>Canada</td>\n",
       "    </tr>\n",
       "    <tr>\n",
       "      <th>77</th>\n",
       "      <td>Norway</td>\n",
       "      <td>70.0</td>\n",
       "      <td>8.0</td>\n",
       "      <td>1.62</td>\n",
       "      <td>21877.710000</td>\n",
       "      <td>19477.620000</td>\n",
       "      <td>27.307500</td>\n",
       "      <td>'Western Europe'</td>\n",
       "      <td>7.522</td>\n",
       "      <td>1.45900</td>\n",
       "      <td>Norway</td>\n",
       "    </tr>\n",
       "    <tr>\n",
       "      <th>105</th>\n",
       "      <td>United States</td>\n",
       "      <td>62.0</td>\n",
       "      <td>7.3</td>\n",
       "      <td>1.92</td>\n",
       "      <td>23127.000000</td>\n",
       "      <td>17925.360000</td>\n",
       "      <td>41.090000</td>\n",
       "      <td>'North America'</td>\n",
       "      <td>7.119</td>\n",
       "      <td>1.39451</td>\n",
       "      <td>United States</td>\n",
       "    </tr>\n",
       "    <tr>\n",
       "      <th>17</th>\n",
       "      <td>Switzerland</td>\n",
       "      <td>70.0</td>\n",
       "      <td>8.0</td>\n",
       "      <td>1.62</td>\n",
       "      <td>23400.040000</td>\n",
       "      <td>19442.920000</td>\n",
       "      <td>32.930000</td>\n",
       "      <td>'Western Europe'</td>\n",
       "      <td>7.587</td>\n",
       "      <td>1.39651</td>\n",
       "      <td>Switzerland</td>\n",
       "    </tr>\n",
       "    <tr>\n",
       "      <th>61</th>\n",
       "      <td>Luxembourg</td>\n",
       "      <td>66.0</td>\n",
       "      <td>7.7</td>\n",
       "      <td>1.76</td>\n",
       "      <td>26182.275000</td>\n",
       "      <td>22240.230000</td>\n",
       "      <td>31.950000</td>\n",
       "      <td>'Western Europe'</td>\n",
       "      <td>6.946</td>\n",
       "      <td>1.56391</td>\n",
       "      <td>Luxembourg</td>\n",
       "    </tr>\n",
       "  </tbody>\n",
       "</table>\n",
       "</div>"
      ],
      "text/plain": [
       "            country  adjusted_satisfaction  avg_satisfaction  \\\n",
       "49            Italy                   57.0               6.6   \n",
       "44          Ireland                   64.0               7.5   \n",
       "90           Sweden                   67.0               7.8   \n",
       "36   United Kingdom                   60.0               7.1   \n",
       "7           Belgium                   63.0               7.2   \n",
       "33          Finland                   70.0               7.9   \n",
       "27          Denmark                   74.0               8.4   \n",
       "34           France                   52.0               6.4   \n",
       "76      Netherlands                   69.0               7.6   \n",
       "48          Iceland                   71.0               8.1   \n",
       "25          Germany                   61.0               7.2   \n",
       "3           Austria                   59.0               7.2   \n",
       "4         Australia                   65.0               7.6   \n",
       "16           Canada                   69.0               8.0   \n",
       "77           Norway                   70.0               8.0   \n",
       "105   United States                   62.0               7.3   \n",
       "17      Switzerland                   70.0               8.0   \n",
       "61       Luxembourg                   66.0               7.7   \n",
       "\n",
       "     std_satisfaction    avg_income  median_income  income_inequality  \\\n",
       "49               1.81  15437.595000   13163.070000          34.126250   \n",
       "44               1.85  16657.770000   13823.160000          32.418750   \n",
       "90               1.72  17032.755000   15166.605000          26.950000   \n",
       "36               1.98  17099.550000   14172.735000          34.432500   \n",
       "7                1.72  17168.505000   15166.455000          28.745000   \n",
       "33               1.53  17310.195000   14962.560000          27.723750   \n",
       "27               1.53  17496.510000   15630.885000          28.155000   \n",
       "34               2.15  18096.788571   14971.251429          32.255714   \n",
       "76               1.38  18234.435000   15880.545000          29.271250   \n",
       "48               1.64  18828.345000   16179.315000          28.780000   \n",
       "25               1.99  19285.960000   16291.260000          31.541667   \n",
       "3                2.11  19457.040000   16879.620000          30.296250   \n",
       "4                1.80  19917.000000   15846.060000          35.285000   \n",
       "16               1.71  20190.780000   16829.100000          33.790000   \n",
       "77               1.62  21877.710000   19477.620000          27.307500   \n",
       "105              1.92  23127.000000   17925.360000          41.090000   \n",
       "17               1.62  23400.040000   19442.920000          32.930000   \n",
       "61               1.76  26182.275000   22240.230000          31.950000   \n",
       "\n",
       "                          region  happyScore      GDP       country.1  \n",
       "49              'Western Europe'       5.948  1.25114           Italy  \n",
       "44              'Western Europe'       6.940  1.33596         Ireland  \n",
       "90              'Western Europe'       7.364  1.33171          Sweden  \n",
       "36              'Western Europe'       6.867  1.26637  United Kingdom  \n",
       "7               'Western Europe'       6.937  1.30782         Belgium  \n",
       "33              'Western Europe'       7.406  1.29025         Finland  \n",
       "27              'Western Europe'       7.527  1.32548         Denmark  \n",
       "34              'Western Europe'       6.575  1.27778          France  \n",
       "76              'Western Europe'       7.378  1.32944     Netherlands  \n",
       "48              'Western Europe'       7.561  1.30232         Iceland  \n",
       "25              'Western Europe'       6.750  1.32792         Germany  \n",
       "3               'Western Europe'       7.200  1.33723         Austria  \n",
       "4    'Australia and New Zealand'       7.284  1.33358       Australia  \n",
       "16               'North America'       7.427  1.32629          Canada  \n",
       "77              'Western Europe'       7.522  1.45900          Norway  \n",
       "105              'North America'       7.119  1.39451   United States  \n",
       "17              'Western Europe'       7.587  1.39651     Switzerland  \n",
       "61              'Western Europe'       6.946  1.56391      Luxembourg  "
      ]
     },
     "execution_count": 11,
     "metadata": {},
     "output_type": "execute_result"
    }
   ],
   "source": [
    "richest = data [data['avg_income'] >15000]\n",
    "richest"
   ]
  },
  {
   "cell_type": "code",
   "execution_count": 12,
   "id": "661cf29e",
   "metadata": {},
   "outputs": [
    {
     "name": "stdout",
     "output_type": "stream",
     "text": [
      "THe lowest income in richest:  country                             Italy\n",
      "adjusted_satisfaction                57.0\n",
      "avg_satisfaction                      6.6\n",
      "std_satisfaction                     1.81\n",
      "avg_income                      15437.595\n",
      "median_income                    13163.07\n",
      "income_inequality                34.12625\n",
      "region                   'Western Europe'\n",
      "happyScore                          5.948\n",
      "GDP                               1.25114\n",
      "country.1                           Italy\n",
      "Name: 49, dtype: object\n"
     ]
    }
   ],
   "source": [
    "print(\"THe lowest income in richest: \", richest.iloc[0])"
   ]
  },
  {
   "cell_type": "code",
   "execution_count": 16,
   "id": "95019b57",
   "metadata": {},
   "outputs": [
    {
     "name": "stdout",
     "output_type": "stream",
     "text": [
      "THe highest last country in richest:  country                        Luxembourg\n",
      "adjusted_satisfaction                66.0\n",
      "avg_satisfaction                      7.7\n",
      "std_satisfaction                     1.76\n",
      "avg_income                      26182.275\n",
      "median_income                    22240.23\n",
      "income_inequality                   31.95\n",
      "region                   'Western Europe'\n",
      "happyScore                          6.946\n",
      "GDP                               1.56391\n",
      "country.1                      Luxembourg\n",
      "Name: 61, dtype: object\n"
     ]
    }
   ],
   "source": [
    "print(\"THe highest last country in richest: \", richest.iloc[-1])"
   ]
  },
  {
   "cell_type": "code",
   "execution_count": 15,
   "id": "339b45f2",
   "metadata": {},
   "outputs": [
    {
     "name": "stdout",
     "output_type": "stream",
     "text": [
      "THe highest last country in richest:             country  adjusted_satisfaction  avg_satisfaction  std_satisfaction  \\\n",
      "49           Italy                   57.0               6.6              1.81   \n",
      "44         Ireland                   64.0               7.5              1.85   \n",
      "90          Sweden                   67.0               7.8              1.72   \n",
      "36  United Kingdom                   60.0               7.1              1.98   \n",
      "7          Belgium                   63.0               7.2              1.72   \n",
      "\n",
      "    avg_income  median_income  income_inequality            region  \\\n",
      "49   15437.595      13163.070           34.12625  'Western Europe'   \n",
      "44   16657.770      13823.160           32.41875  'Western Europe'   \n",
      "90   17032.755      15166.605           26.95000  'Western Europe'   \n",
      "36   17099.550      14172.735           34.43250  'Western Europe'   \n",
      "7    17168.505      15166.455           28.74500  'Western Europe'   \n",
      "\n",
      "    happyScore      GDP       country.1  \n",
      "49       5.948  1.25114           Italy  \n",
      "44       6.940  1.33596         Ireland  \n",
      "90       7.364  1.33171          Sweden  \n",
      "36       6.867  1.26637  United Kingdom  \n",
      "7        6.937  1.30782         Belgium  \n"
     ]
    }
   ],
   "source": [
    "print(\"THe highest last country in richest: \", richest.iloc[0:5])"
   ]
  },
  {
   "cell_type": "code",
   "execution_count": 17,
   "id": "db25fcf2",
   "metadata": {},
   "outputs": [
    {
     "name": "stdout",
     "output_type": "stream",
     "text": [
      "The mean of richest top countries more than 15K is:  19266.680753968256\n"
     ]
    }
   ],
   "source": [
    "print(\"The mean of richest top countries more than 15K is: \", np.mean(richest['avg_income']))"
   ]
  },
  {
   "cell_type": "code",
   "execution_count": 18,
   "id": "ff8607b7",
   "metadata": {},
   "outputs": [
    {
     "data": {
      "text/plain": [
       "6442.751416214639"
      ]
     },
     "execution_count": 18,
     "metadata": {},
     "output_type": "execute_result"
    }
   ],
   "source": [
    "all_mean = np.mean(data['avg_income'])\n",
    "\n",
    "all_mean"
   ]
  },
  {
   "cell_type": "code",
   "execution_count": 19,
   "id": "b9d2fc53",
   "metadata": {},
   "outputs": [
    {
     "name": "stdout",
     "output_type": "stream",
     "text": [
      "Both of the means, The mean of top countries:  19266.680753968256\n",
      "The mean of All countries:  6442.751416214639\n"
     ]
    }
   ],
   "source": [
    "print(\"Both of the means, The mean of top countries: \", np.mean(richest['avg_income']))\n",
    "\n",
    "print(\"The mean of All countries: \", np.mean(data['avg_income']))\n"
   ]
  },
  {
   "cell_type": "code",
   "execution_count": 21,
   "id": "8ef4e2e8",
   "metadata": {},
   "outputs": [
    {
     "data": {
      "text/plain": [
       "Text(15437.595, 5.948, 'Italy')"
      ]
     },
     "execution_count": 21,
     "metadata": {},
     "output_type": "execute_result"
    },
    {
     "data": {
      "image/png": "[encoded data removed]",
      "text/plain": [
       "<Figure size 432x288 with 1 Axes>"
      ]
     },
     "metadata": {
      "needs_background": "light"
     },
     "output_type": "display_data"
    }
   ],
   "source": [
    "plt.scatter(richest['avg_income'],richest['happyScore'])\n",
    "plt.text(richest.iloc[0]['avg_income'],richest.iloc[0]['happyScore'],richest.iloc[0]['country'])"
   ]
  },
  {
   "cell_type": "code",
   "execution_count": 22,
   "id": "f685a1f6",
   "metadata": {},
   "outputs": [
    {
     "data": {
      "text/plain": [
       "Text(26182.275, 6.946000000000001, 'Luxembourg')"
      ]
     },
     "execution_count": 22,
     "metadata": {},
     "output_type": "execute_result"
    },
    {
     "data": {
      "image/png": "[encoded data removed]",
      "text/plain": [
       "<Figure size 432x288 with 1 Axes>"
      ]
     },
     "metadata": {
      "needs_background": "light"
     },
     "output_type": "display_data"
    }
   ],
   "source": [
    "plt.scatter(richest['avg_income'],richest['happyScore'])\n",
    "plt.text(richest.iloc[-1]['avg_income'],richest.iloc[-1]['happyScore'],richest.iloc[-1]['country'])"
   ]
  },
  {
   "cell_type": "code",
   "execution_count": 26,
   "id": "47b9d2cf",
   "metadata": {},
   "outputs": [
    {
     "name": "stdout",
     "output_type": "stream",
     "text": [
      "Italy\n",
      "Ireland\n",
      "Sweden\n",
      "United Kingdom\n",
      "Belgium\n",
      "Finland\n",
      "Denmark\n",
      "France\n",
      "Netherlands\n",
      "Iceland\n",
      "Germany\n",
      "Austria\n",
      "Australia\n",
      "Canada\n",
      "Norway\n",
      "United States\n",
      "Switzerland\n",
      "Luxembourg\n"
     ]
    }
   ],
   "source": [
    "for k,row in richest.iterrows():\n",
    "    print(row['country'])"
   ]
  },
  {
   "cell_type": "code",
   "execution_count": 30,
   "id": "7d3a6adb",
   "metadata": {},
   "outputs": [
    {
     "data": {
      "image/png": "[encoded data removed]",
      "text/plain": [
       "<Figure size 432x288 with 1 Axes>"
      ]
     },
     "metadata": {
      "needs_background": "light"
     },
     "output_type": "display_data"
    }
   ],
   "source": [
    "plt.scatter(richest['avg_income'],richest['happyScore'])\n",
    "\n",
    "for k,row in richest.iterrows():\n",
    "    plt.text(row['avg_income'],\n",
    "             row['happyScore'],\n",
    "             row['country'])\n",
    "    \n"
   ]
  },
  {
   "cell_type": "code",
   "execution_count": 32,
   "id": "924feffd",
   "metadata": {},
   "outputs": [
    {
     "data": {
      "text/plain": [
       "<matplotlib.collections.PathCollection at 0x161b32b8250>"
      ]
     },
     "execution_count": 32,
     "metadata": {},
     "output_type": "execute_result"
    },
    {
     "data": {
      "image/png": "[encoded data removed]",
      "text/plain": [
       "<Figure size 432x288 with 1 Axes>"
      ]
     },
     "metadata": {
      "needs_background": "light"
     },
     "output_type": "display_data"
    }
   ],
   "source": [
    "plt.scatter(income,happy)"
   ]
  },
  {
   "cell_type": "code",
   "execution_count": 36,
   "id": "233b5e53",
   "metadata": {},
   "outputs": [
    {
     "data": {
      "text/plain": [
       "<matplotlib.collections.PathCollection at 0x161b439dbe0>"
      ]
     },
     "execution_count": 36,
     "metadata": {},
     "output_type": "execute_result"
    },
    {
     "data": {
      "image/png": "[encoded data removed]",
      "text/plain": [
       "<Figure size 432x288 with 1 Axes>"
      ]
     },
     "metadata": {
      "needs_background": "light"
     },
     "output_type": "display_data"
    }
   ],
   "source": [
    "# Add 3rd Dimensions\n",
    "# by size of dots...plt.scatter(income,happy,ineq)\n",
    "\n",
    "ineq=data['income_inequality']\n",
    "\n",
    "plt.scatter(income,happy,s=ineq*5, alpha=0.45)"
   ]
  },
  {
   "cell_type": "code",
   "execution_count": 37,
   "id": "facd40e3",
   "metadata": {},
   "outputs": [],
   "source": [
    "from sklearn.cluster import KMeans"
   ]
  },
  {
   "cell_type": "code",
   "execution_count": 39,
   "id": "74f3a9d3",
   "metadata": {},
   "outputs": [
    {
     "name": "stdout",
     "output_type": "stream",
     "text": [
      "[[2.09676000e+03 4.35000000e+00]\n",
      " [1.44888000e+03 4.03300000e+00]\n",
      " [7.10112000e+03 6.57400000e+00]\n",
      " [1.94570400e+04 7.20000000e+00]\n",
      " [1.99170000e+04 7.28400000e+00]\n",
      " [3.38160000e+03 5.21200000e+00]\n",
      " [1.26534000e+03 4.69400000e+00]\n",
      " [1.71685050e+04 6.93700000e+00]\n",
      " [8.70840000e+02 3.58700000e+00]\n",
      " [5.35482000e+03 4.21800000e+00]\n",
      " [5.72880000e+02 2.90500000e+00]\n",
      " [9.89040000e+02 3.34000000e+00]\n",
      " [3.98571000e+03 5.89000000e+00]\n",
      " [5.56723500e+03 6.98300000e+00]\n",
      " [3.48468000e+03 4.33200000e+00]\n",
      " [5.45393333e+03 5.81300000e+00]\n",
      " [2.01907800e+04 7.42700000e+00]\n",
      " [2.34000400e+04 7.58700000e+00]\n",
      " [7.55799000e+03 6.67000000e+00]\n",
      " [1.49052000e+03 4.25200000e+00]\n",
      " [2.67364286e+03 5.14000000e+00]\n",
      " [4.61806286e+03 6.47700000e+00]\n",
      " [6.90146667e+03 7.22600000e+00]\n",
      " [1.04939550e+04 5.68900000e+00]\n",
      " [9.43090500e+03 6.50500000e+00]\n",
      " [1.92859600e+04 6.75000000e+00]\n",
      " [1.87524000e+03 4.36900000e+00]\n",
      " [1.74965100e+04 7.52700000e+00]\n",
      " [4.43076000e+03 4.88500000e+00]\n",
      " [3.83565333e+03 5.97500000e+00]\n",
      " [7.90672500e+03 5.42900000e+00]\n",
      " [1.38429900e+04 6.32900000e+00]\n",
      " [1.05072000e+03 4.51200000e+00]\n",
      " [1.73101950e+04 7.40600000e+00]\n",
      " [1.80967886e+04 6.57500000e+00]\n",
      " [2.52096000e+03 3.89600000e+00]\n",
      " [1.70995500e+04 6.86700000e+00]\n",
      " [1.95726667e+03 4.29700000e+00]\n",
      " [1.57704000e+03 4.63300000e+00]\n",
      " [1.15075650e+04 4.85700000e+00]\n",
      " [3.08044000e+03 4.78800000e+00]\n",
      " [7.82808000e+03 5.75900000e+00]\n",
      " [6.90388364e+03 4.80000000e+00]\n",
      " [1.54174737e+03 5.39900000e+00]\n",
      " [1.66577700e+04 6.94000000e+00]\n",
      " [1.06452400e+04 7.27800000e+00]\n",
      " [1.35784800e+03 4.56500000e+00]\n",
      " [5.21504000e+03 4.68600000e+00]\n",
      " [1.88283450e+04 7.56100000e+00]\n",
      " [1.54375950e+04 5.94800000e+00]\n",
      " [1.45428000e+04 5.98700000e+00]\n",
      " [1.49268000e+03 4.41900000e+00]\n",
      " [1.85264000e+03 5.28600000e+00]\n",
      " [1.86872000e+03 3.81900000e+00]\n",
      " [2.62700571e+03 5.58900000e+00]\n",
      " [3.55509333e+03 5.85500000e+00]\n",
      " [1.49172000e+03 4.87600000e+00]\n",
      " [2.55828000e+03 4.27100000e+00]\n",
      " [6.53040000e+02 4.57100000e+00]\n",
      " [9.08640000e+02 4.89800000e+00]\n",
      " [6.78916000e+03 5.83300000e+00]\n",
      " [2.61822750e+04 6.94600000e+00]\n",
      " [6.72290182e+03 5.09800000e+00]\n",
      " [2.86488000e+03 5.01300000e+00]\n",
      " [3.07728000e+03 5.88900000e+00]\n",
      " [5.74200000e+02 3.68100000e+00]\n",
      " [9.03300000e+02 3.99500000e+00]\n",
      " [3.18180000e+03 4.87400000e+00]\n",
      " [1.92264000e+03 4.43600000e+00]\n",
      " [4.12050000e+03 5.47700000e+00]\n",
      " [4.14800000e+03 7.18700000e+00]\n",
      " [7.28682000e+03 5.77000000e+00]\n",
      " [7.14720000e+02 4.97100000e+00]\n",
      " [7.18400000e+02 3.84500000e+00]\n",
      " [9.10320000e+02 5.26800000e+00]\n",
      " [2.41920000e+03 5.82800000e+00]\n",
      " [1.82344350e+04 7.37800000e+00]\n",
      " [2.18777100e+04 7.52200000e+00]\n",
      " [1.42812000e+03 4.51400000e+00]\n",
      " [6.25036000e+03 6.78600000e+00]\n",
      " [4.31266667e+03 5.82400000e+00]\n",
      " [2.22446400e+03 5.07300000e+00]\n",
      " [1.46385600e+03 5.19400000e+00]\n",
      " [6.58246588e+03 5.79100000e+00]\n",
      " [9.98287500e+03 5.10200000e+00]\n",
      " [4.93852000e+03 5.87800000e+00]\n",
      " [3.17415000e+03 5.12400000e+00]\n",
      " [4.62990857e+03 5.12300000e+00]\n",
      " [7.64719500e+03 5.71600000e+00]\n",
      " [9.46520000e+02 3.46500000e+00]\n",
      " [1.70327550e+04 7.36400000e+00]\n",
      " [1.21747650e+04 5.84800000e+00]\n",
      " [7.98639692e+03 5.99500000e+00]\n",
      " [8.50080000e+02 4.50700000e+00]\n",
      " [1.13508000e+03 3.90400000e+00]\n",
      " [3.41089333e+03 6.13000000e+00]\n",
      " [1.17768000e+03 3.66700000e+00]\n",
      " [9.36360000e+02 2.83900000e+00]\n",
      " [4.79250000e+03 6.45500000e+00]\n",
      " [1.49703000e+03 4.78600000e+00]\n",
      " [3.25128000e+03 4.73900000e+00]\n",
      " [5.24266667e+03 5.33200000e+00]\n",
      " [9.41400000e+02 3.78100000e+00]\n",
      " [4.12968000e+03 4.68100000e+00]\n",
      " [1.12648000e+03 3.93100000e+00]\n",
      " [2.31270000e+04 7.11900000e+00]\n",
      " [7.54440000e+03 6.48500000e+00]\n",
      " [2.23140000e+03 5.36000000e+00]\n",
      " [3.88932000e+03 4.64200000e+00]\n",
      " [9.56760000e+02 5.12900000e+00]\n",
      " [1.76856000e+03 4.61000000e+00]]\n"
     ]
    }
   ],
   "source": [
    "income_happy = np.column_stack((income,happy))\n",
    "print(income_happy)"
   ]
  },
  {
   "cell_type": "code",
   "execution_count": 46,
   "id": "e7a81d6f",
   "metadata": {},
   "outputs": [
    {
     "data": {
      "text/plain": [
       "KMeans(n_clusters=2)"
      ]
     },
     "execution_count": 46,
     "metadata": {},
     "output_type": "execute_result"
    }
   ],
   "source": [
    "km_results = KMeans(n_clusters=2).fit(income_happy)\n",
    "km_results"
   ]
  },
  {
   "cell_type": "code",
   "execution_count": 47,
   "id": "730cd906",
   "metadata": {},
   "outputs": [
    {
     "data": {
      "text/plain": [
       "array([[3.55367454e+03, 5.06149438e+00],\n",
       "       [1.81303806e+04, 6.87995455e+00]])"
      ]
     },
     "execution_count": 47,
     "metadata": {},
     "output_type": "execute_result"
    }
   ],
   "source": [
    "km_results.cluster_centers_"
   ]
  },
  {
   "cell_type": "code",
   "execution_count": 48,
   "id": "f8fb4313",
   "metadata": {},
   "outputs": [
    {
     "data": {
      "text/plain": [
       "<matplotlib.collections.PathCollection at 0x161b5d44820>"
      ]
     },
     "execution_count": 48,
     "metadata": {},
     "output_type": "execute_result"
    },
    {
     "data": {
      "image/png": "[encoded data removed]",
      "text/plain": [
       "<Figure size 432x288 with 1 Axes>"
      ]
     },
     "metadata": {
      "needs_background": "light"
     },
     "output_type": "display_data"
    }
   ],
   "source": [
    "clusters = km_results.cluster_centers_\n",
    "\n",
    "plt.scatter(income,happy)\n",
    "plt.scatter(clusters[:,0],clusters[:,1],s=1000)"
   ]
  },
  {
   "cell_type": "code",
   "execution_count": 49,
   "id": "c67413e5",
   "metadata": {},
   "outputs": [],
   "source": [
    "#We can change the number of clusters according to your requirement"
   ]
  },
  {
   "cell_type": "code",
   "execution_count": null,
   "id": "9430f1ea",
   "metadata": {},
   "outputs": [],
   "source": []
  }
 ],
 "metadata": {
  "kernelspec": {
   "display_name": "Python 3 (ipykernel)",
   "language": "python",
   "name": "python3"
  },
  "language_info": {
   "codemirror_mode": {
    "name": "ipython",
    "version": 3
   },
   "file_extension": ".py",
   "mimetype": "text/x-python",
   "name": "python",
   "nbconvert_exporter": "python",
   "pygments_lexer": "ipython3",
   "version": "3.9.12"
  }
 },
 "nbformat": 4,
 "nbformat_minor": 5
}
